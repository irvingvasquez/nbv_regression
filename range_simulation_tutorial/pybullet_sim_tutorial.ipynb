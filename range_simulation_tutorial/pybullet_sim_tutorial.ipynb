{
 "cells": [
  {
   "cell_type": "markdown",
   "metadata": {},
   "source": [
    "# Range simulation with PyBullet\n",
    "\n",
    "Pybullet provides several tools for building complex physics simulations. It is used in many robotic research projects and it also provides a range sensor.\n",
    "\n",
    "In this notebook, we will use the PyBullet package to build an scene and get some range sensings.\n",
    "\n",
    "### Installation\n",
    "\n",
    "- Create a conda environment. I have used the name *nbvr*.\n",
    "- Install the PyBullet package. \n",
    "```\n",
    "pip install pybullet\n",
    "```\n",
    "- Create a notebook or script\n",
    "\n",
    "### 3D Models Installation\n",
    "\n",
    "PyBullets uses the URFD format for representing the objects in the scene. URDF format may be difficult to understand at fist glance, therefore, we will import some models from the [Converted YCB] repository.\n",
    "\n",
    "[Converted YCB]: <https://github.com/eleramp/pybullet-object-models>\n",
    "\n",
    "### Start coding!"
   ]
  },
  {
   "cell_type": "code",
   "execution_count": 1,
   "metadata": {},
   "outputs": [],
   "source": [
    "# Import libraries\n",
    "import numpy as np\n",
    "import matplotlib.pyplot as plt\n",
    "import os\n",
    "\n",
    "import pybullet as pb \n",
    "import pybullet_data\n",
    "\n",
    "from pybullet_object_models import ycb_objects"
   ]
  },
  {
   "cell_type": "code",
   "execution_count": 2,
   "metadata": {},
   "outputs": [],
   "source": [
    "# Start the pybullet server\n",
    "physicsClient = pb.connect(pb.GUI)\n",
    "pb.resetDebugVisualizerCamera(3, 90, -30, [0.0, -0.0, -0.0])\n",
    "pb.setTimeStep(1 / 240.)"
   ]
  },
  {
   "cell_type": "code",
   "execution_count": 3,
   "metadata": {},
   "outputs": [],
   "source": [
    "# Insert a plane in the environment\n",
    "\n",
    "pb.setAdditionalSearchPath(pybullet_data.getDataPath())\n",
    "planeId = pb.loadURDF('plane.urdf')"
   ]
  },
  {
   "cell_type": "code",
   "execution_count": 4,
   "metadata": {},
   "outputs": [],
   "source": [
    "# Insert some objects\n",
    "flags = pb.URDF_USE_INERTIA_FROM_FILE\n",
    "\n",
    "n_objects = 10\n",
    "offset = 0.2\n",
    "for i in range(n_objects):\n",
    "    z_pos = 0 + i*offset\n",
    "    obj_id = pb.loadURDF(os.path.join(ycb_objects.getDataPath(), 'YcbBanana', \"model.urdf\"), [0, 0.0, z_pos], flags=flags)\n"
   ]
  },
  {
   "cell_type": "code",
   "execution_count": 5,
   "metadata": {},
   "outputs": [],
   "source": [
    "pb.setGravity(0, 0, -9.8)"
   ]
  },
  {
   "cell_type": "code",
   "execution_count": 6,
   "metadata": {},
   "outputs": [],
   "source": [
    "# Start simulation\n",
    "pb.setRealTimeSimulation(1)"
   ]
  },
  {
   "cell_type": "code",
   "execution_count": 7,
   "metadata": {},
   "outputs": [],
   "source": [
    "# Define the camera view matrix\n",
    "\n",
    "viewMatrix = pb.computeViewMatrix(\n",
    "    cameraEyePosition=[0, 0, 2],\n",
    "    cameraTargetPosition=[0, 0, 0],\n",
    "    cameraUpVector=[0, 1, 0])"
   ]
  },
  {
   "cell_type": "code",
   "execution_count": 8,
   "metadata": {},
   "outputs": [],
   "source": [
    "# Define projection matrix\n",
    "\n",
    "projectionMatrix = pb.computeProjectionMatrixFOV(\n",
    "    fov=45.0,\n",
    "    aspect=1.0,\n",
    "    nearVal=0.1,\n",
    "    farVal=3.1)"
   ]
  },
  {
   "cell_type": "code",
   "execution_count": 9,
   "metadata": {},
   "outputs": [],
   "source": [
    "# Get an image\n",
    "\n",
    "width, height, rgbImg, depthImg, segImg = pb.getCameraImage(\n",
    "    width=224, \n",
    "    height=224,\n",
    "    viewMatrix=viewMatrix,\n",
    "    projectionMatrix=projectionMatrix)"
   ]
  },
  {
   "cell_type": "code",
   "execution_count": 10,
   "metadata": {},
   "outputs": [
    {
     "data": {
      "text/plain": [
       "(224, 224)"
      ]
     },
     "execution_count": 10,
     "metadata": {},
     "output_type": "execute_result"
    }
   ],
   "source": [
    "depthImg.shape"
   ]
  },
  {
   "cell_type": "code",
   "execution_count": 11,
   "metadata": {},
   "outputs": [
    {
     "name": "stdout",
     "output_type": "stream",
     "text": [
      "[[0.98166656 0.98166656 0.98166656 ... 0.98166656 0.98166656 0.98166656]\n",
      " [0.98166656 0.98166656 0.98166656 ... 0.98166656 0.98166656 0.98166656]\n",
      " [0.98166656 0.98166656 0.98166656 ... 0.98166656 0.98166656 0.98166656]\n",
      " ...\n",
      " [0.98166656 0.98166656 0.98166656 ... 0.98166656 0.98166656 0.98166656]\n",
      " [0.98166656 0.98166656 0.98166656 ... 0.98166656 0.98166656 0.98166656]\n",
      " [0.98166656 0.98166656 0.98166656 ... 0.98166656 0.98166656 0.98166656]]\n"
     ]
    }
   ],
   "source": [
    "# Plot points from the image.\n",
    "print(depthImg)"
   ]
  },
  {
   "cell_type": "code",
   "execution_count": 12,
   "metadata": {},
   "outputs": [
    {
     "data": {
      "text/plain": [
       "<matplotlib.image.AxesImage at 0x7f932bd4e130>"
      ]
     },
     "execution_count": 12,
     "metadata": {},
     "output_type": "execute_result"
    },
    {
     "data": {
      "image/png": "[encoded data removed]",
      "text/plain": [
       "<Figure size 432x288 with 1 Axes>"
      ]
     },
     "metadata": {
      "needs_background": "light"
     },
     "output_type": "display_data"
    }
   ],
   "source": [
    "# Display the image\n",
    "plt.imshow(depthImg)"
   ]
  },
  {
   "cell_type": "code",
   "execution_count": null,
   "metadata": {},
   "outputs": [],
   "source": []
  },
  {
   "cell_type": "code",
   "execution_count": null,
   "metadata": {},
   "outputs": [],
   "source": []
  }
 ],
 "metadata": {
  "kernelspec": {
   "display_name": "Python 3",
   "language": "python",
   "name": "python3"
  },
  "language_info": {
   "codemirror_mode": {
    "name": "ipython",
    "version": 3
   },
   "file_extension": ".py",
   "mimetype": "text/x-python",
   "name": "python",
   "nbconvert_exporter": "python",
   "pygments_lexer": "ipython3",
   "version": "3.9.5"
  }
 },
 "nbformat": 4,
 "nbformat_minor": 2
}
